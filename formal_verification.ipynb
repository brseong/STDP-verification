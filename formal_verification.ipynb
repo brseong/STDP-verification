{
 "cells": [
  {
   "cell_type": "code",
   "execution_count": 1,
   "metadata": {},
   "outputs": [],
   "source": [
    "import time, logging, torchvision, torch\n",
    "import numpy as np\n",
    "\n",
    "from copy import deepcopy\n",
    "from multiprocessing import Pipe, Pool\n",
    "from random import sample as random_sample\n",
    "from random import seed\n",
    "from time import localtime, strftime\n",
    "from typing import Any, Generator, Sequence\n",
    "from torch.utils.data import DataLoader\n",
    "from tqdm.auto import tqdm\n",
    "from z3 import *\n",
    "from utils.dataclasses import ExperimentInfoGlobal, ExperimentInfoLocal, expr_info_global\n",
    "from utils.networks import Mozafari2018\n",
    "from utils.visual import log\n",
    "from utils.types import MNIST_DoG_Data, MNIST_DoG_Target\n",
    "from utils.SpykeTorch.SpykeTorch import utils as sutils"
   ]
  },
  {
   "cell_type": "code",
   "execution_count": 2,
   "metadata": {},
   "outputs": [
    {
     "name": "stderr",
     "output_type": "stream",
     "text": [
      "/tmp/ipykernel_469830/2851410248.py:2: FutureWarning: You are using `torch.load` with `weights_only=False` (the current default value), which uses the default pickle module implicitly. It is possible to construct malicious pickle data which will execute arbitrary code during unpickling (See https://github.com/pytorch/pytorch/blob/main/SECURITY.md#untrusted-models for more details). In a future release, the default value for `weights_only` will be flipped to `True`. This limits the functions that could be executed during unpickling. Arbitrary objects will no longer be allowed to be loaded via this mode unless they are explicitly allowlisted by the user via `torch.serialization.add_safe_globals`. We recommend you start setting `weights_only=True` for any use case where you don't have full control of the loaded file. Please open an issue on GitHub for any issues related to this experimental feature.\n",
      "  mozafari.load_state_dict(torch.load(\"saved.net\"))\n"
     ]
    },
    {
     "data": {
      "text/plain": [
       "<All keys matched successfully>"
      ]
     },
     "execution_count": 2,
     "metadata": {},
     "output_type": "execute_result"
    }
   ],
   "source": [
    "mozafari = Mozafari2018()\n",
    "mozafari.load_state_dict(torch.load(\"saved.net\"))"
   ]
  },
  {
   "cell_type": "code",
   "execution_count": 3,
   "metadata": {},
   "outputs": [],
   "source": [
    "MNIST_train = sutils.CacheDataset(torchvision.datasets.MNIST(root=\"data\", train=True, download=True,\n",
    "                                                                 transform = Mozafari2018.generate_transform())) # type: ignore\n",
    "MNIST_loader = DataLoader(MNIST_train, batch_size=4, num_workers=128, shuffle=False, pin_memory=True)"
   ]
  },
  {
   "cell_type": "code",
   "execution_count": 5,
   "metadata": {},
   "outputs": [
    {
     "ename": "ValueError",
     "evalue": "too many values to unpack (expected 2)",
     "output_type": "error",
     "traceback": [
      "\u001b[0;31m---------------------------------------------------------------------------\u001b[0m",
      "\u001b[0;31mValueError\u001b[0m                                Traceback (most recent call last)",
      "Cell \u001b[0;32mIn[5], line 3\u001b[0m\n\u001b[1;32m      1\u001b[0m \u001b[38;5;28;01mfor\u001b[39;00m batch \u001b[38;5;129;01min\u001b[39;00m MNIST_loader:\n\u001b[1;32m      2\u001b[0m     \u001b[38;5;28;01mfor\u001b[39;00m sample \u001b[38;5;129;01min\u001b[39;00m batch:\n\u001b[0;32m----> 3\u001b[0m         next_input, next_target \u001b[38;5;241m=\u001b[39m sample\n\u001b[1;32m      4\u001b[0m         next_input \u001b[38;5;241m=\u001b[39m next_input\u001b[38;5;241m.\u001b[39msqueeze(\u001b[38;5;241m0\u001b[39m)\n\u001b[1;32m      5\u001b[0m         next_input \u001b[38;5;241m=\u001b[39m next_input\u001b[38;5;241m.\u001b[39mto(mozafari\u001b[38;5;241m.\u001b[39mdevice)\n",
      "\u001b[0;31mValueError\u001b[0m: too many values to unpack (expected 2)"
     ]
    }
   ],
   "source": [
    "for batch in MNIST_loader:\n",
    "    for sample, target in batch:\n",
    "        sample = sample.squeeze(0)\n",
    "        sample = sample.to(mozafari.device)\n",
    "        target = target.to(mozafari.device)\n",
    "        _out = mozafari(sample, 3)"
   ]
  },
  {
   "cell_type": "code",
   "execution_count": 10,
   "metadata": {},
   "outputs": [
    {
     "data": {
      "text/plain": [
       "tensor([5, 0, 4, 1])"
      ]
     },
     "execution_count": 10,
     "metadata": {},
     "output_type": "execute_result"
    }
   ],
   "source": [
    "batch[1]"
   ]
  },
  {
   "cell_type": "code",
   "execution_count": 8,
   "metadata": {},
   "outputs": [
    {
     "data": {
      "text/plain": [
       "torch.Size([15, 6, 28, 28])"
      ]
     },
     "execution_count": 8,
     "metadata": {},
     "output_type": "execute_result"
    }
   ],
   "source": [
    "sample[0].shape"
   ]
  },
  {
   "cell_type": "code",
   "execution_count": null,
   "metadata": {},
   "outputs": [],
   "source": []
  },
  {
   "cell_type": "code",
   "execution_count": 2,
   "metadata": {},
   "outputs": [],
   "source": [
    "def run_test(e_info:ExperimentInfoLocal):\n",
    "    log_name = f\"{e_info.log_name}_{e_info.num_steps}_delta{e_info.delta}.log\"\n",
    "    logging.basicConfig(filename=f\"{expr_info_global}/\" + log_name, level=logging.INFO)\n",
    "    log(e_info)\n",
    "\n",
    "    seed(e_info.seed)\n",
    "    np.random.seed(e_info.seed)\n",
    "    # torch.manual_seed(e_info.seed)\n",
    "    # torch.use_deterministic_algorithms(True)\n",
    "    \n",
    "    # mnist_test = datasets.MNIST(data_path, train=False, download=True, transform=transform)\n",
    "    # test_loader = DataLoader(mnist_test, batch_size=1, shuffle=True, drop_last=True)\n",
    "    \n",
    "    MNIST_train:Iterable[tuple[torch.Tensor, int]] # batch, (data, label), c, h, w\n",
    "    MNIST_train = sutils.CacheDataset(torchvision.datasets.MNIST(root=e_info.data_root, train=True, download=True,\n",
    "                                                                 transform = e_info.net_type.generate_transform())) # type: ignore\n",
    "    \n",
    "    \n",
    "    log('Data is loaded')\n",
    "    S = Solver()\n",
    "    # spike_indicators = gen_spikes()\n",
    "    spike_times = gen_spike_times()\n",
    "    weights = gen_weights(weights_list)\n",
    "    \n",
    "    # Load equations.\n",
    "    eqn_path = f'eqn/eqn_{num_steps}_{\"_\".join([str(i) for i in n_layer_neurons])}.txt'\n",
    "    if not load_expr or not os.path.isfile(eqn_path):\n",
    "        node_eqns = gen_node_eqns(weights, spike_times)\n",
    "        S.add(node_eqns)\n",
    "        # if cfg.np_level == 1:\n",
    "        #     node_eqns.extend(gen_dnp_v2(weights, spike_indicators, potentials))\n",
    "        # elif cfg.np_level == 2:\n",
    "        #     node_eqns.extend(gen_gnp(weights, spike_indicators))\n",
    "        if save_expr:\n",
    "            try:\n",
    "                with open(eqn_path, 'w') as f:\n",
    "                    f.write(S.sexpr())\n",
    "                    log(\"Node equations are saved.\")\n",
    "            except:\n",
    "                pdb.set_trace(header=\"Failed to save node eqns.\")\n",
    "    else:\n",
    "        S.from_file(eqn_path)\n",
    "    log(\"Solver is loaded.\")\n",
    "\n",
    "    samples_no_list:List[int] = []\n",
    "    sampled_imgs:List[TImage] = []\n",
    "    orig_preds:List[int] = []\n",
    "    for sample_no in random_sample([*range(len(images))], k=cfg.num_samples):\n",
    "        log(f\"sample {sample_no} is drawn.\")\n",
    "        samples_no_list.append(sample_no)\n",
    "        img:TImage = images[sample_no]\n",
    "        sampled_imgs.append(img) # type: ignore\n",
    "        orig_preds.append(forward(weights_list, img))\n",
    "    log(f\"Sampling is completed with {num_procs} samples.\")\n",
    "    # data, target = next(iter(test_loader))\n",
    "    # inp = spikegen.rate(data, num_steps=num_steps) # type: ignore\n",
    "    # op = net.forward(inp.view(num_steps, -1))[0]\n",
    "    # label = int(torch.cat(op).sum(dim=0).argmax())\n",
    "    # log(f'single input ran in {time.time()-tx} sec')\n",
    "\n",
    "    # For each delta\n",
    "    for delta in cfg.deltas:\n",
    "        global check_sample\n",
    "        def check_sample(sample:Tuple[int, TImage, int]):\n",
    "            sample_no, img, orig_pred = sample\n",
    "            orig_neuron = (orig_pred, 0)\n",
    "            tx = time.time()\n",
    "            \n",
    "            # # Input property terms\n",
    "            prop = []\n",
    "            # max_delta_per_neuron = min(1, delta)\n",
    "            # max_delta_per_neuron = delta\n",
    "            input_layer = 0\n",
    "            deltas_list = []\n",
    "            delta_pos = IntVal(0)\n",
    "            delta_neg = IntVal(0)\n",
    "            def relu(x): return If(x>0, x, 0)\n",
    "            for in_neuron in get_layer_neurons_iter(input_layer):\n",
    "                ## Try to avoid using abs, it makes z3 extremely slow.\n",
    "                delta_pos += relu(spike_times[in_neuron, input_layer] - int(img[in_neuron]))\n",
    "                delta_neg += relu(int(img[in_neuron]) - spike_times[in_neuron, input_layer])\n",
    "                # neuron_spktime_delta = (\n",
    "                #     typecast(ArithRef,\n",
    "                #              Abs(spike_times[in_neuron, input_layer] - int(img[in_neuron]))))\n",
    "                # prop.append(neuron_spktime_delta <= max_delta_per_neuron)\n",
    "                # deltas_list.append(neuron_spktime_delta)\n",
    "                # prop.append(spike_times[in_neuron,input_layer] == int(img[in_neuron]))\n",
    "                # print(img[in_neuron], end = '\\t')\n",
    "            prop.append((delta_pos + delta_neg) <= delta)\n",
    "            # prop.append(Sum(deltas_list) <= delta)\n",
    "            log(f\"Inputs Property Done in {time.time() - tx} sec\")\n",
    "\n",
    "            # Output property\n",
    "            tx = time.time()\n",
    "            op = []\n",
    "            last_layer = len(n_layer_neurons)-1\n",
    "            for out_neuron in get_layer_neurons_iter(last_layer):\n",
    "                if out_neuron != orig_neuron:\n",
    "                    # It is equal to Not(spike_times[out_neuron, last_layer] >= spike_times[orig_neuron, last_layer]),\n",
    "                    # we are checking p and Not(q) and q = And(q1, q2, ..., qn)\n",
    "                    # so Not(q) is Or(Not(q1), Not(q2), ..., Not(qn))\n",
    "                    op.append(\n",
    "                        spike_times[out_neuron, last_layer] <= spike_times[orig_neuron, last_layer]\n",
    "                    )\n",
    "            op = Or(op)\n",
    "            log(f'Output Property Done in {time.time() - tx} sec')\n",
    "\n",
    "            tx = time.time()\n",
    "            S_instance = deepcopy(S)\n",
    "            log(f'Network Encoding read in {time.time() - tx} sec')\n",
    "            S_instance.add(op)\n",
    "            S_instance.add(prop)\n",
    "            log(f'Total model ready in {time.time() - tx}')\n",
    "\n",
    "            log('Query processing starts')\n",
    "            # set_param(verbose=2)\n",
    "            # set_param(\"parallel.enable\", True)\n",
    "            tx = time.time()\n",
    "            result = S_instance.check()\n",
    "            log(f\"Checking done in time {time.time() - tx}\")\n",
    "            if result == sat:\n",
    "                log(f\"Not robust for sample {sample_no} and delta={delta}\")\n",
    "            elif result == unsat:\n",
    "                log(f\"Robust for sample {sample_no} and delta={delta}\")\n",
    "            else:\n",
    "                log(f\"Unknown at sample {sample_no} for reason {S_instance.reason_unknown()}\")\n",
    "            log(\"\")\n",
    "            return result\n",
    "        \n",
    "        samples = zip(samples_no_list, sampled_imgs, orig_preds)\n",
    "        if mp:\n",
    "            with Pool(num_procs) as pool:\n",
    "                pool.map(check_sample, samples)\n",
    "                pool.close()\n",
    "                pool.join()\n",
    "        else:\n",
    "            for sample in samples:\n",
    "                check_sample(sample)\n",
    "\n",
    "    log(\"\")\n",
    "    \n"
   ]
  },
  {
   "cell_type": "code",
   "execution_count": null,
   "metadata": {},
   "outputs": [],
   "source": [
    "expr_info = ExperimentInfoLocal(log_name=\"mnist\", num_steps=15, delta=1, seed=42, data_root=\"data\", net_type=Mozafari2018)\n",
    "k = run_test(expr_info)"
   ]
  },
  {
   "cell_type": "code",
   "execution_count": 11,
   "metadata": {},
   "outputs": [
    {
     "data": {
      "text/plain": [
       "torch.Size([15, 6, 28, 28])"
      ]
     },
     "execution_count": 11,
     "metadata": {},
     "output_type": "execute_result"
    }
   ],
   "source": [
    "k[0][0].shape"
   ]
  },
  {
   "cell_type": "code",
   "execution_count": null,
   "metadata": {},
   "outputs": [],
   "source": []
  }
 ],
 "metadata": {
  "kernelspec": {
   "display_name": "stdp",
   "language": "python",
   "name": "python3"
  },
  "language_info": {
   "codemirror_mode": {
    "name": "ipython",
    "version": 3
   },
   "file_extension": ".py",
   "mimetype": "text/x-python",
   "name": "python",
   "nbconvert_exporter": "python",
   "pygments_lexer": "ipython3",
   "version": "3.10.15"
  }
 },
 "nbformat": 4,
 "nbformat_minor": 2
}

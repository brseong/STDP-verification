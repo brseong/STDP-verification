{
 "cells": [
  {
   "cell_type": "code",
   "execution_count": 1,
   "metadata": {},
   "outputs": [],
   "source": [
    "import torch\n",
    "from torch.utils.data import DataLoader\n",
    "from utils.spikingjelly.spikingjelly.datasets.n_mnist import NMNIST\n",
    "from utils.spikingjelly.spikingjelly.datasets import play_frame\n",
    "from matplotlib import pyplot as plt\n",
    "from mpl_toolkits.axes_grid1 import make_axes_locatable\n",
    "from IPython.display import display, clear_output\n",
    "from typing import cast\n",
    "from utils.networks import STDPNet, DiehlAndCook2015, Mozafari2018\n",
    "from utils.dataclasses import DistInfo, ExpInfo\n",
    "from utils.trainer import train_Mozafari"
   ]
  },
  {
   "cell_type": "code",
   "execution_count": 2,
   "metadata": {},
   "outputs": [],
   "source": [
    "## Deprecated code for mnist\n",
    "# FILE_LIST = \"MNIST/raw/train-images-idx3-ubyte MNIST/raw/train-labels-idx1-ubyte MNIST/raw/t10k-images-idx3-ubyte MNIST/raw/t10k-labels-idx1-ubyte\".split()\n",
    "# arrays:list[np.ndarray] = []\n",
    "\n",
    "# for fname in FILE_LIST:\n",
    "#     with open(fname,'rb') as f:\n",
    "#         arrays.append(mnist.parse_idx(f))\n",
    "# assert len(arrays) == 4\n",
    "# train_imgs, train_labels, test_imgs, test_labels = arrays"
   ]
  },
  {
   "cell_type": "code",
   "execution_count": 3,
   "metadata": {},
   "outputs": [],
   "source": [
    "ExpInfo.use_cuda = True\n",
    "w_min, w_max, w_mean, w_std = 0., 1., 0.5, 0.01\n",
    "tau_pre, tau_post = 2., 2.\n",
    "N_in, N_hidden, N_out = 2*34*34, 10, 10\n",
    "T = 64\n",
    "batch_size = 1\n",
    "lr = 0.01"
   ]
  },
  {
   "cell_type": "code",
   "execution_count": 4,
   "metadata": {},
   "outputs": [
    {
     "name": "stdout",
     "output_type": "stream",
     "text": [
      "The directory [data/frames_number_64_split_by_number] already exists.\n"
     ]
    }
   ],
   "source": [
    "train_set = NMNIST(\"data/\",train=True, data_type=\"frame\", frames_number=T, split_by=\"number\")\n",
    "# test_set = NMNIST(\"data/\",train=False, data_type=\"frame\", frames_number=T, split_by=\"number\")\n",
    "\n",
    "train_loader = DataLoader(train_set, batch_size=batch_size, shuffle=True)\n",
    "# test_loader = DataLoader(test_set, batch_size=batch_size, shuffle=True)"
   ]
  },
  {
   "cell_type": "code",
   "execution_count": 5,
   "metadata": {},
   "outputs": [
    {
     "name": "stdout",
     "output_type": "stream",
     "text": [
      "Save frames to [data_sample.gif].\n"
     ]
    }
   ],
   "source": [
    "play_frame(train_set[15000][0], save_gif_to=\"data_sample.gif\")"
   ]
  },
  {
   "cell_type": "code",
   "execution_count": 6,
   "metadata": {},
   "outputs": [
    {
     "name": "stderr",
     "output_type": "stream",
     "text": [
      "C:\\Users\\sizzf\\AppData\\Local\\Temp\\ipykernel_88668\\1396957543.py:2: FutureWarning: You are using `torch.load` with `weights_only=False` (the current default value), which uses the default pickle module implicitly. It is possible to construct malicious pickle data which will execute arbitrary code during unpickling (See https://github.com/pytorch/pytorch/blob/main/SECURITY.md#untrusted-models for more details). In a future release, the default value for `weights_only` will be flipped to `True`. This limits the functions that could be executed during unpickling. Arbitrary objects will no longer be allowed to be loaded via this mode unless they are explicitly allowlisted by the user via `torch.serialization.add_safe_globals`. We recommend you start setting `weights_only=True` for any use case where you don't have full control of the loaded file. Please open an issue on GitHub for any issues related to this experimental feature.\n",
      "  M2018_state_dict = torch.load(f)\n"
     ]
    },
    {
     "data": {
      "text/plain": [
       "<All keys matched successfully>"
      ]
     },
     "execution_count": 6,
     "metadata": {},
     "output_type": "execute_result"
    }
   ],
   "source": [
    "with open(\"saved.net\", 'rb') as f:\n",
    "    M2018_state_dict = torch.load(f)\n",
    "\n",
    "net = Mozafari2018()\n",
    "net.load_state_dict(M2018_state_dict)"
   ]
  },
  {
   "cell_type": "code",
   "execution_count": null,
   "metadata": {},
   "outputs": [
    {
     "name": "stdout",
     "output_type": "stream",
     "text": [
      "Training the first layer\n"
     ]
    },
    {
     "name": "stderr",
     "output_type": "stream",
     "text": [
      "c:\\Users\\sizzf\\OneDrive\\Documents\\Code\\연구\\STDP-verification\\utils\\trainer.py:29: FutureWarning: You are using `torch.load` with `weights_only=False` (the current default value), which uses the default pickle module implicitly. It is possible to construct malicious pickle data which will execute arbitrary code during unpickling (See https://github.com/pytorch/pytorch/blob/main/SECURITY.md#untrusted-models for more details). In a future release, the default value for `weights_only` will be flipped to `True`. This limits the functions that could be executed during unpickling. Arbitrary objects will no longer be allowed to be loaded via this mode unless they are explicitly allowlisted by the user via `torch.serialization.add_safe_globals`. We recommend you start setting `weights_only=True` for any use case where you don't have full control of the loaded file. Please open an issue on GitHub for any issues related to this experimental feature.\n",
      "  mozafari.load_state_dict(torch.load(\"saved_l1.net\"))\n"
     ]
    },
    {
     "name": "stdout",
     "output_type": "stream",
     "text": [
      "Training the second layer\n"
     ]
    },
    {
     "name": "stderr",
     "output_type": "stream",
     "text": [
      "c:\\Users\\sizzf\\OneDrive\\Documents\\Code\\연구\\STDP-verification\\utils\\trainer.py:43: FutureWarning: You are using `torch.load` with `weights_only=False` (the current default value), which uses the default pickle module implicitly. It is possible to construct malicious pickle data which will execute arbitrary code during unpickling (See https://github.com/pytorch/pytorch/blob/main/SECURITY.md#untrusted-models for more details). In a future release, the default value for `weights_only` will be flipped to `True`. This limits the functions that could be executed during unpickling. Arbitrary objects will no longer be allowed to be loaded via this mode unless they are explicitly allowlisted by the user via `torch.serialization.add_safe_globals`. We recommend you start setting `weights_only=True` for any use case where you don't have full control of the loaded file. Please open an issue on GitHub for any issues related to this experimental feature.\n",
      "  mozafari.load_state_dict(torch.load(\"saved_l2.net\"))\n"
     ]
    },
    {
     "name": "stdout",
     "output_type": "stream",
     "text": [
      "Training the third layer\n",
      "Epoch #: 0\n",
      "0\n",
      "[0.38 0.62 0.  ]\n",
      "1000\n",
      "[0.691 0.309 0.   ]\n",
      "2000\n",
      "[0.699 0.301 0.   ]\n",
      "3000\n",
      "[0.712 0.288 0.   ]\n",
      "4000\n",
      "[0.706 0.294 0.   ]\n",
      "5000\n"
     ]
    }
   ],
   "source": [
    "train_Mozafari()"
   ]
  },
  {
   "cell_type": "code",
   "execution_count": null,
   "metadata": {},
   "outputs": [],
   "source": [
    "device = [\"cpu\", \"cuda\"][torch.cuda.is_available()]\n",
    "torch.manual_seed(0)\n",
    "do_train = False\n",
    "\n",
    "# plt.style.use(['science'])\n",
    "\n",
    "w_info = DistInfo(w_min, w_max, w_mean, w_std)\n",
    "net:STDPNet = cast(STDPNet, DiehlAndCook2015(2*34*34, N_hidden, tau_pre, tau_post, w_info).to(device))\n",
    "\n",
    "optimizer = torch.optim.SGD(net.parameters(), lr=lr, momentum=0.)\n",
    "\n",
    "# Make figure to plot\n",
    "fig = plt.figure(figsize=(15, 3*len(net.draw_ids)))\n",
    "fig.suptitle(f\"0-th iteration\")\n",
    "\n",
    "axes = []\n",
    "caxes = []\n",
    "\n",
    "# Subplot ops.\n",
    "for i, draw_id in enumerate(net.draw_ids):\n",
    "    axes.append(fig.add_subplot(len(net.draw_ids),1,i+1)) # generate new subplot.\n",
    "    pc = axes[-1].pcolor(net.draw_weights(id=draw_id)) # make sub ax for color-number map.\n",
    "    div = make_axes_locatable(axes[-1]) # get division of the subplot.\n",
    "    caxes.append(div.append_axes(\"right\", size=\"5%\", pad=0.05)) # new ax for color bar\n",
    "    fig.colorbar(pc, caxes[-1]) # make colorbar.\n",
    "fig.tight_layout() # fit plots to layout\n",
    "d_handle = display(fig, display_id=True) # jupyter display output\n",
    "assert d_handle is not None # display handle must be valid.\n",
    "\n",
    "with torch.no_grad():\n",
    "    frame = torch.zeros((batch_size, 2*34, 34), requires_grad=False, device=device) # *2 for ON, OFF events\n",
    "    loader = iter(train_loader)\n",
    "    for i, (frames, label) in enumerate(loader, start=1):\n",
    "        for t in range(T):\n",
    "            assert frames.shape == (batch_size,64,2,34,34), f\"{frames.shape}\"\n",
    "            optimizer.zero_grad()\n",
    "            # out_spike.append(net(in_spike[t]))\n",
    "            frame.fill_(0)\n",
    "            frame[:,::2,:] = torch.tensor(frames[:,t,0])\n",
    "            frame[:,1::2,:] = torch.tensor(frames[:,t,1])\n",
    "            net(frame.reshape(batch_size,-1))\n",
    "            \n",
    "            for learner in net.learners:\n",
    "                learner.step(on_grad=True)\n",
    "            optimizer.step()\n",
    "            net.post_optim()\n",
    "            # weight.append(net[0].weight.data.clone())\n",
    "            # trace_pre.append(learner.trace_pre)\n",
    "            # trace_post.append(learner.trace_post)\n",
    "        \n",
    "        if i%10 == 0:\n",
    "            fig.suptitle(f\"{i}-th iteration\")\n",
    "            for i, draw_id in enumerate(net.draw_ids):\n",
    "                pc = axes[i].pcolor(net.draw_weights(id=draw_id))\n",
    "                fig.colorbar(pc, caxes[i])\n",
    "            d_handle.update(fig)\n",
    "        \n"
   ]
  },
  {
   "cell_type": "code",
   "execution_count": null,
   "metadata": {},
   "outputs": [],
   "source": []
  }
 ],
 "metadata": {
  "kernelspec": {
   "display_name": "stdp",
   "language": "python",
   "name": "python3"
  },
  "language_info": {
   "codemirror_mode": {
    "name": "ipython",
    "version": 3
   },
   "file_extension": ".py",
   "mimetype": "text/x-python",
   "name": "python",
   "nbconvert_exporter": "python",
   "pygments_lexer": "ipython3",
   "version": "3.10.14"
  }
 },
 "nbformat": 4,
 "nbformat_minor": 2
}

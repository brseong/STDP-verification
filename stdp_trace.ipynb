{
 "cells": [
  {
   "cell_type": "code",
   "execution_count": 1,
   "metadata": {},
   "outputs": [],
   "source": [
    "import torch\n",
    "import os.path as osp\n",
    "from torch.utils.data import DataLoader\n",
    "from utils.spikingjelly.spikingjelly.datasets.n_mnist import NMNIST\n",
    "from utils.spikingjelly.spikingjelly.datasets import play_frame\n",
    "from matplotlib import pyplot as plt\n",
    "from mpl_toolkits.axes_grid1 import make_axes_locatable\n",
    "from IPython.display import display, clear_output\n",
    "from typing import cast\n",
    "from utils.networks import STDPNet, DiehlAndCook2015, Mozafari2018\n",
    "from utils.dataclasses import DistInfo, expr_info_global\n",
    "from utils.trainer import train_Mozafari\n",
    "from utils.visual import draw_weight_map"
   ]
  },
  {
   "cell_type": "code",
   "execution_count": 2,
   "metadata": {},
   "outputs": [],
   "source": [
    "## Deprecated code for mnist\n",
    "# FILE_LIST = \"MNIST/raw/train-images-idx3-ubyte MNIST/raw/train-labels-idx1-ubyte MNIST/raw/t10k-images-idx3-ubyte MNIST/raw/t10k-labels-idx1-ubyte\".split()\n",
    "# arrays:list[np.ndarray] = []\n",
    "\n",
    "# for fname in FILE_LIST:\n",
    "#     with open(fname,'rb') as f:\n",
    "#         arrays.append(mnist.parse_idx(f))\n",
    "# assert len(arrays) == 4\n",
    "# train_imgs, train_labels, test_imgs, test_labels = arrays"
   ]
  },
  {
   "cell_type": "code",
   "execution_count": 3,
   "metadata": {},
   "outputs": [],
   "source": [
    "expr_info_global.use_cuda = True\n",
    "w_min, w_max, w_mean, w_std = 0., 1., 0.5, 0.01\n",
    "tau_pre, tau_post = 2., 2.\n",
    "N_in, N_hidden, N_out = 2*34*34, 10, 10\n",
    "T = 64\n",
    "batch_size = 1\n",
    "lr = 0.01"
   ]
  },
  {
   "cell_type": "code",
   "execution_count": 6,
   "metadata": {},
   "outputs": [],
   "source": [
    "if osp.isfile(\"saved.net\"):\n",
    "    with open(\"saved.net\", 'rb') as f:\n",
    "        M2018_state_dict = torch.load(f)\n",
    "\n",
    "    net = Mozafari2018()\n",
    "    net.load_state_dict(M2018_state_dict)"
   ]
  },
  {
   "cell_type": "code",
   "execution_count": null,
   "metadata": {},
   "outputs": [],
   "source": [
    "trainer = train_Mozafari()\n",
    "fig, axes = plt.subplots(len(Mozafari2018.draw_ids),1)\n",
    "fig.set_size_inches(15, 15)\n",
    "fig.suptitle(f\"0-th iteration\")\n",
    "d_handle = display(fig, display_id=True)\n",
    "assert d_handle is not None\n",
    "\n",
    "for step, ret in enumerate(trainer, start=1):\n",
    "    for axe, img in zip(axes, ret):\n",
    "        draw_weight_map(fig, axe, img)\n",
    "    fig.suptitle(f\"{step}-th iteration\")\n",
    "    fig.tight_layout()\n",
    "    fig.savefig(f\"out_img/{step:010d}.png\")\n",
    "    d_handle.update(fig)"
   ]
  },
  {
   "cell_type": "code",
   "execution_count": null,
   "metadata": {},
   "outputs": [],
   "source": [
    "device = [\"cpu\", \"cuda\"][torch.cuda.is_available()]\n",
    "torch.manual_seed(0)\n",
    "do_train = False\n",
    "\n",
    "# plt.style.use(['science'])\n",
    "\n",
    "w_info = DistInfo(w_min, w_max, w_mean, w_std)\n",
    "net:STDPNet = cast(STDPNet, DiehlAndCook2015(2*34*34, N_hidden, tau_pre, tau_post, w_info).to(device))\n",
    "\n",
    "optimizer = torch.optim.SGD(net.parameters(), lr=lr, momentum=0.)\n",
    "\n",
    "# Make figure to plot\n",
    "fig = plt.figure(figsize=(15, 3*len(net.draw_ids)))\n",
    "fig.suptitle(f\"0-th iteration\")\n",
    "\n",
    "axes = []\n",
    "caxes = []\n",
    "\n",
    "# Subplot ops.\n",
    "for i, draw_id in enumerate(net.draw_ids):\n",
    "    axes.append(fig.add_subplot(len(net.draw_ids),1,i+1)) # generate new subplot.\n",
    "    pc = axes[-1].pcolor(net.draw_weights(id=draw_id)) # make sub ax for color-number map.\n",
    "    div = make_axes_locatable(axes[-1]) # get division of the subplot.\n",
    "    caxes.append(div.append_axes(\"right\", size=\"5%\", pad=0.05)) # new ax for color bar\n",
    "    fig.colorbar(pc, caxes[-1]) # make colorbar.\n",
    "fig.tight_layout() # fit plots to layout\n",
    "d_handle = display(fig, display_id=True) # jupyter display output\n",
    "assert d_handle is not None # display handle must be valid.\n",
    "\n",
    "with torch.no_grad():\n",
    "    frame = torch.zeros((batch_size, 2*34, 34), requires_grad=False, device=device) # *2 for ON, OFF events\n",
    "    loader = iter(train_loader)\n",
    "    for i, (frames, label) in enumerate(loader, start=1):\n",
    "        for t in range(T):\n",
    "            assert frames.shape == (batch_size,64,2,34,34), f\"{frames.shape}\"\n",
    "            optimizer.zero_grad()\n",
    "            # out_spike.append(net(in_spike[t]))\n",
    "            frame.fill_(0)\n",
    "            frame[:,::2,:] = torch.tensor(frames[:,t,0])\n",
    "            frame[:,1::2,:] = torch.tensor(frames[:,t,1])\n",
    "            net(frame.reshape(batch_size,-1))\n",
    "            \n",
    "            for learner in net.learners:\n",
    "                learner.step(on_grad=True)\n",
    "            optimizer.step()\n",
    "            net.post_optim()\n",
    "            # weight.append(net[0].weight.data.clone())\n",
    "            # trace_pre.append(learner.trace_pre)\n",
    "            # trace_post.append(learner.trace_post)\n",
    "        \n",
    "        if i%10 == 0:\n",
    "            fig.suptitle(f\"{i}-th iteration\")\n",
    "            for i, draw_id in enumerate(net.draw_ids):\n",
    "                pc = axes[i].pcolor(net.draw_weights(id=draw_id))\n",
    "                fig.colorbar(pc, caxes[i])\n",
    "            d_handle.update(fig)\n",
    "        \n"
   ]
  },
  {
   "cell_type": "code",
   "execution_count": null,
   "metadata": {},
   "outputs": [],
   "source": []
  }
 ],
 "metadata": {
  "kernelspec": {
   "display_name": "stdp",
   "language": "python",
   "name": "python3"
  },
  "language_info": {
   "codemirror_mode": {
    "name": "ipython",
    "version": 3
   },
   "file_extension": ".py",
   "mimetype": "text/x-python",
   "name": "python",
   "nbconvert_exporter": "python",
   "pygments_lexer": "ipython3",
   "version": "3.10.15"
  }
 },
 "nbformat": 4,
 "nbformat_minor": 2
}
